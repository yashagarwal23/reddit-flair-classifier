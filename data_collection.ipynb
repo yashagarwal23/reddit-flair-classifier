{
 "cells": [
  {
   "cell_type": "code",
   "execution_count": 0,
   "metadata": {
    "colab": {},
    "colab_type": "code",
    "id": "Xghzi2GdsYcF"
   },
   "outputs": [],
   "source": [
    "import json\n",
    "import requests\n",
    "import pandas as pd\n",
    "from tqdm import tqdm\n",
    "import re"
   ]
  },
  {
   "cell_type": "markdown",
   "metadata": {
    "colab_type": "text",
    "id": "1WQ2z1T8DaFc"
   },
   "source": [
    "### Collecting latest reddit posts\n",
    "To collect reddit flair data [pushshift api](https://pushshift.io/) is used as it has higher usage limit than other api's like [praw](https://praw.readthedocs.io/en/latest/#).\n",
    "\n",
    "Most of the posts are empty, so a large number of posts are extracted using pushshift.\n",
    "Also the posts are taken from 4 different times over the last 5 years to have a good mix of flairs.\n",
    "\n",
    "As pushshift returns at max 1000 posts in a single request, posts time stamps are used to avoid repeated posts.\n"
   ]
  },
  {
   "cell_type": "code",
   "execution_count": 0,
   "metadata": {
    "colab": {
     "base_uri": "https://localhost:8080/",
     "height": 102
    },
    "colab_type": "code",
    "id": "ydLhzIqPs3Ym",
    "outputId": "47545f93-7894-4664-d9cc-3bd8744c7b67"
   },
   "outputs": [
    {
     "name": "stderr",
     "output_type": "stream",
     "text": [
      "201000it [03:11, 1047.81it/s]\n",
      "201000it [03:16, 1021.23it/s]\n",
      "201000it [02:42, 1235.64it/s]\n",
      "201000it [02:41, 1243.45it/s]"
     ]
    },
    {
     "name": "stdout",
     "output_type": "stream",
     "text": [
      "1437484530\n"
     ]
    },
    {
     "name": "stderr",
     "output_type": "stream",
     "text": [
      "\n"
     ]
    }
   ],
   "source": [
    "size = 1000\n",
    "url = \"https://api.pushshift.io/reddit/submission/search/?subreddit=india&size={}&before={}\"\n",
    "returned_submissions = []\n",
    "def downloadFromUrl(start_time):\n",
    "\tcount = 0\n",
    "\tprevious_epoch = start_time\n",
    "\tnum_posts = 200000\n",
    "\twith tqdm(total=num_posts) as pbar:\n",
    "\t\twhile True:\n",
    "\t\t\tnew_url = url.format(size, previous_epoch)\n",
    "\t\t\trequest = requests.get(new_url)\n",
    "\t\t\tjson_data = request.json()\n",
    "\t\t\tif 'data' not in json_data:\n",
    "\t\t\t\tbreak\n",
    "\t\t\tobjects = json_data['data']\n",
    "\t\t\tif len(objects) == 0:\n",
    "\t\t\t\tbreak\n",
    "\t\t\tfor object in objects:\n",
    "\t\t\t\tprevious_epoch = object['created_utc'] - 1\n",
    "\t\t\t\tcount += 1\n",
    "\t\t\t\tpbar.update(1)\n",
    "\t\t\t\treturned_submissions.append(object)\n",
    "\t\t\tif count > num_posts:\n",
    "\t\t\t\tbreak\n",
    "\treturn previous_epoch\n",
    "\n",
    "ret_time = downloadFromUrl(1587286440)\n",
    "ret_time = downloadFromUrl(min(1577750400, ret_time-1))\n",
    "ret_time = downloadFromUrl(min(1555977600, ret_time-1))\n",
    "ret_time = downloadFromUrl(min(1529853415, ret_time-1))\n",
    "print(ret_time)\t"
   ]
  },
  {
   "cell_type": "markdown",
   "metadata": {
    "colab_type": "text",
    "id": "fgUiVySFFj-V"
   },
   "source": [
    "#### Saving the raw pushshift data"
   ]
  },
  {
   "cell_type": "code",
   "execution_count": 0,
   "metadata": {
    "colab": {},
    "colab_type": "code",
    "id": "JNbe-ysBxeBp"
   },
   "outputs": [],
   "source": [
    "import pickle\n",
    "pickle.dump(returned_submissions, open(\"pushshift_raw_data_midas.pkl\", \"wb\"))\n",
    "# returned_submissions = pickle.load(open(\"pushshift_raw_data_midas.pkl\", \"rb\"))"
   ]
  },
  {
   "cell_type": "code",
   "execution_count": 0,
   "metadata": {
    "colab": {},
    "colab_type": "code",
    "id": "KPaC9OkisK8L"
   },
   "outputs": [],
   "source": [
    "!cp pushshift_raw_data_midas.pkl /content/drive/My\\ Drive/midas_reddit_flair"
   ]
  },
  {
   "cell_type": "markdown",
   "metadata": {
    "colab_type": "text",
    "id": "d9mbw7EWFyWV"
   },
   "source": [
    "#### check if all the posts are unique"
   ]
  },
  {
   "cell_type": "code",
   "execution_count": 0,
   "metadata": {
    "colab": {},
    "colab_type": "code",
    "id": "GfPODqoc6F1V"
   },
   "outputs": [],
   "source": [
    "s = set()\n",
    "for post in returned_submissions:\n",
    "  if post['id'] in s:\n",
    "    print(\"repeat\")\n",
    "  else:\n",
    "    s.add(post['id'])"
   ]
  },
  {
   "cell_type": "markdown",
   "metadata": {
    "colab_type": "text",
    "id": "sXWBnzF0F00F"
   },
   "source": [
    "#### get number of posts for each flair"
   ]
  },
  {
   "cell_type": "code",
   "execution_count": 5,
   "metadata": {
    "colab": {
     "base_uri": "https://localhost:8080/",
     "height": 54
    },
    "colab_type": "code",
    "id": "VOqQDdkilCEG",
    "outputId": "5c1c51e7-f1c1-42c7-f050-118e28e5b537"
   },
   "outputs": [
    {
     "name": "stdout",
     "output_type": "stream",
     "text": [
      "{'Science/Technology': 16074, 'Coronavirus': 8011, 'AskIndia': 63133, None: 284206, 'Non-Political': 156791, 'Policy/Economy': 20809, 'Politics': 132398, 'Business/Finance': 19508, 'Photography': 4675, 'Low-effort self-post.': 1593, 'CAA-NRC-NPR': 86, 'Scheduled': 3025, 'Food': 4618, '| Repost |': 131, '| Not Original/Relevant Title | | Social Media Rules |': 3, '| Unverified Content / Disreputed Source |': 94, '| Not specific to India |': 69, 'Low Quality/Non OC Meme': 55, 'Sports': 8768, '| Not in English |': 24, 'All CAPS.': 1968, 'Shitpost': 39, '| Low-effort Self Post |': 76, '| Not in English | | Unverified Content / Disreputed Source |': 4, '| Not specific to India | | Stickied Topic |': 1, '| Social Media Rules |': 76, '| Not Original/Relevant Title | | Custom (Informed OP) |': 1, 'Meta.': 636, '| Custom (Informed OP) |': 8, '| Not Original/Relevant Title |': 110, '| Image Rule Violation |': 17, '| Witch-hunting/Targeting User |': 3, '| Stickied Topic |': 17, 'Dead Link': 4, '| Not in English | | Social Media Rules | Post link Directly': 1, '| [OLD] Content |': 4, '| Not specific to India | | Not Original/Relevant Title |': 3, '| Self-promotion | | Social Media Rules |': 3, '| Not specific to India | | Social Media Rules |': 2, '| Low-effort Self Post | | Stickied Topic |': 1, '| Self-promotion | Shitpost': 1, '| Not specific to India | | Low-effort Self Post | Shitpost': 1, '| Self-promotion |': 14, 'Unverified': 343, '| Not Original/Relevant Title | Post link Directly': 1, 'Post link Directly': 11, '| Not Original/Relevant Title | | Low-effort Self Post |': 1, 'Not Appropriate Subreddit': 6, '| Self-promotion | | Unverified Content / Disreputed Source |': 1, '| Unverified Content / Disreputed Source | Shitpost': 1, '| Image Rule Violation | | Low-effort Self Post |': 1, '| Personal Info |': 4, '| Personal Info | | Self-promotion |': 1, 'Translation provided in comments': 1, '| Not in English | | Low-effort Self Post |': 1, '| Low-effort Self Post | Post link Directly': 2, '| Not Original/Relevant Title | | Stickied Topic |': 1, '| Not Original/Relevant Title | | Image Rule Violation |': 1, '| Not in English | | Social Media Rules |': 2, 'Announcement': 3, 'Megathread': 4, '| Not Original/Relevant Title | | Repost |': 1, 'Verified': 1, 'Meta': 40, 'Demonetization': 7319, 'CAA-NRC': 1070, 'PARTAYYY AGAIN :D': 1, '| Witch-hunting/Targeting User | Meta.': 1, 'AMA': 305, 'Personal/Unverified Twitter.': 61, '| Not in English | | Not Original/Relevant Title |': 3, '| Not specific to India | | Self-promotion |': 1, '| Not specific to India | Low Quality/Non OC Meme': 1, '| Personal/Unverified Social Media |': 7, 'Foodpolitics': 1, 'Casual AMA': 33, '| Repost | Post link Directly': 1, 'AMA Announcement': 6, 'Aug 2019 - Politics': 1, 'Science &amp; Technology': 3051, '[R]eddiquette': 12330, '| Self-promotion | | Low-effort Self Post |': 1, 'Meta. | Custom (Informed OP) |': 1, '| Low-effort Self Post | | Repost |': 1, 'Not in English.': 5979, 'Not specific to India.': 388, 'Unverified Content / Disreputed Source.': 114, 'Low effort meme/image': 1, 'Low-effort Post.': 1, 'Not Original Title. Personal/Unverified Twitter.': 2, 'Low-effort Self Post.': 402, 'Shitpost.': 38, 'Not Original Title.': 2228, 'Not about India.': 2715, 'Personal Info.': 350, 'Repost.': 2990, 'Not about India. Not Original Title.': 72, 'Not about India. Personal Info.': 10, 'Custom; Informed OP.': 490, 'Meta. Custom; Informed OP.': 27, '[OLD] Content.': 20, 'Self-promotion.': 439, 'Not Original Title. Shitpost.': 1, 'Askindia': 151, 'Not Original Title. Repost.': 19, 'Casual': 193, 'Not in English. Shitpost.': 5, 'Not Original Title. Unverified Content / Disreputed Source.': 8, 'Low-effort Self Post. Unverified Content / Disreputed Source.': 3, 'NSFW/Gore.': 2, 'Misleading': 205, 'Personal Info. Personal/Unverified Twitter.': 2, 'TIL Rule Violation.': 242, 'Shitpost. Custom; Informed OP.': 2, 'Not in English. Low-effort Self Post.': 7, 'Unverified Content / Disreputed Source. [OLD] Content.': 1, 'Not about India. Shitpost.': 1, 'Inflammatory Title.': 1, 'Moderated': 117, 'Not Original Title. Low-effort Self Post.': 9, 'Personal Info. Unverified Content / Disreputed Source.': 4, 'Happy Pride Everyone!': 1, 'Clickbait.': 10, 'Not in English. Unverified Content / Disreputed Source.': 7, 'Stickied Topic. Custom; Informed OP.': 1, 'Unverified Content / Disreputed Source. Custom; Informed OP.': 3, 'Repost. Stickied Topic.': 16, 'Witch-hunting/Targeting User.': 4, 'Stickied Topic.': 829, 'Not Original Title. Stickied Topic.': 2, 'Not Original Title. [OLD] Content. Repost.': 1, 'Clickbait. Custom; Informed OP.': 1, 'Not Original Title. Custom; Informed OP.': 16, 'Personal/Unverified Twitter. Custom; Informed OP.': 2, 'Meta. Shitpost.': 1, 'Personal information visible ': 1, 'TIL Rule Violation. Custom; Informed OP.': 8, 'Not about India. Self-promotion. Not Original Title.': 1, 'Not in English. Low-effort Self Post. Custom; Informed OP.': 1, 'Not in English. Custom; Informed OP.': 3, 'Politics [Title edited at source]': 1, 'Not about India': 161, 'Personal Info. Meta.': 5, 'Personal Twitter ': 3, 'Verified AMA': 1, 'AK 47 Hahahahahaha...': 1, 'BWAHAHAHAHA': 1, 'Certified lulz': 1, 'Not about India. Custom; Informed OP.': 18, 'Personal Info. Repost.': 1, 'Zoke Tyme': 1, 'Personal Info. Custom; Informed OP.': 8, 'Clickbait. Unverified Content / Disreputed Source.': 1, 'Not in English. Not Original Title.': 31, 'TIL Rule Violation. Stickied Topic.': 1, 'Self-promotion. Unverified Content / Disreputed Source.': 1, 'Not in English. Personal/Unverified Twitter. TIL Rule Violation.': 1, 'UnverifiedContent / Disreputed Source.': 18, 'Not in English. UnverifiedContent / Disreputed Source.': 1, 'Allegedly slapped by supervisor, not flyer': 1, 'Personal/Unverified Twitter': 55, 'Not in English. Custom; Informed OP': 3, 'Repost;': 1284, 'Unverified Content.': 931, 'Custom; Informed OP': 242, 'Personal Info. Not in English.': 6, 'Old.': 409, 'Not about India. Unverified Content.': 14, 'Unverified Content. Custom; Informed OP': 31, 'Translation in comments': 1, 'Not Original Title. Personal/Unverified Twitter': 7, 'Not Original Title. Repost;': 29, 'Not in English. Unverified Content.': 33, 'Unverified Content. TIL Rule Violation.': 6, 'Repost': 260, 'Policy': 6328, 'Removed': 21, 'Old. Custom; Informed OP': 2, 'Not reputed or verified ': 1, 'Personal Info. Unverified Content. TIL Rule Violation.': 1, 'Fake.': 1, 'Meta. Custom; Informed OP': 10, 'Not in English. TIL Rule Violation.': 1, 'Not Original Title. Unverified Content.': 64, 'Removed Unverified Content.': 13, 'Not Original Title. Removed': 6, 'Personal Info. Personal/Unverified Twitter': 1, 'Title not in English ': 1, 'Not Original Title. Custom; Informed OP': 13, 'Meta. Low-effort Self Post.': 2, '*half-yearly': 1, 'Witch-hunt.': 56, 'Not about India. Not in English. TIL Rule Violation.': 1, 'Not about India. Low-effort Self Post.': 9, 'Subtitles/transcript in english': 1, 'Not related to India ': 2, 'Low-effort Self Post. Personal/Unverified Twitter': 1, 'Not Original Title. Old.': 12, 'Low-effort Self Post. Unverified Content.': 19, 'Not in English. Removed': 1, 'OLD': 6, 'Repost of Sticky.': 36, 'Low-effort Self Post. TIL Rule Violation.': 2, 'Not Original Title ': 2, 'Pornographic. Removed': 1, 'Personal/Unverified Twitter Repost;': 1, 'Pornographic. Unverified Content.': 1, 'Self-promotion. Not Original Title.': 6, 'Personal Info. Unverified Content.': 26, 'Not about India. Not in English. Unverified Content.': 1, 'No Translation ': 2, 'Removed Custom; Informed OP': 1, 'Meta. Unverified Content.': 2, 'Not about India. Twitter': 6, 'Twitter': 196, 'WHY?': 1, '(͡◔ ͜ʖ ͡◔)': 1, 'Not about India. TIL Rule Violation.': 6, 'Not Original Title. Unverified Content. Custom; Informed OP': 4, 'Not about India. Old.': 3, 'AMA (LIVE)': 1, 'NSFL [Mirror in comments]': 1, 'Low-effort Self Post. Repost;': 6, 'Stop clogging the interweb dammit!': 1, 'Not Original Title. Twitter': 4, 'Repost ': 5, 'Low-effort Self Post. Custom; Informed OP': 12, 'Witch-hunt. Meta.': 13, 'r/India found its new toy!': 1, 'It’s 2018 ...': 1, 'No spoilers in title ': 1, 'Not Original Title. TIL Rule Violation.': 4, 'Unverified AMA': 1, 'NSFW': 2, 'Personal Info. Twitter': 3, 'Not Related to India ': 1, 'Not about India. Not in English.': 15, 'Repost; Twitter': 1, 'TIL Rule Violation. Repost;': 2, 'Not in English. Twitter': 2, 'TIL Rule Violation. Custom; Informed OP': 4, 'Policy/Economy [Bill introduced]': 1, 'TIL rule ': 1, 'Not India specific ': 1, 'Not in English. Meta.': 2, 'Pornographic.': 23, 'PARTAAY!!1!': 1, 'Edited Title': 102, 'Unverified Content. Repost;': 6, 'Politics|source edited title': 1, 'Not about India. Repost;': 1, 'Mega Thread ': 3, 'Mega Thread': 1, 'Personal Info. Not in English. Unverified Content.': 1, 'Unverified Content. Twitter': 10, 'NSFL': 5, 'Not Original Title. Low-effort Self Post. Unverified Content.': 1, 'Neat!': 3, 'Fixed link in comments': 1, 'Net-Neutrality': 10, 'Unverified Content. Old.': 5, 'Not Original Title. Unverified Content. Old.': 2, 'Photoshopped': 2, 'Misleading: Not the first': 1, 'Personal Twitter not allowed ': 1, 'Witch-hunt. Not Original Title. Meta.': 1, 'Repost; Custom; Informed OP': 5, 'Off-Site Brigading': 1, 'Not Original Title. Unverified Content. Twitter': 1, 'Removed: Personal Info': 74, 'BE NICE TO OP': 1, 'AMA Ended': 1, 'Low-effort Self Post. Unverified Content. Custom; Informed OP': 4, '[OLD 2016]': 1, 'Clickbait Title': 1, 'Not in English. Not Original Title. Unverified Content.': 5, 'Title changed by DNAIndia': 1, 'Personal Info. Custom; Informed OP': 3, 'Winner gets Reddit Gold!': 1, 'Not about India. Personal Info. Low-effort Self Post.': 1, 'Pets of /r/India': 4, 'Ans: Very': 1, 'Not in English. Repost;': 2, 'Well played, OP!': 1, 'Old. Twitter': 2, 'Not about India. Custom; Informed OP': 4, 'Not in English. Unverified Content. Twitter': 1, '100% legit.': 1, 'SPOILET ALERT': 1, 'OP is le memer': 1, 'Congrats OP!': 1, 'Title Changed ': 1, 'Custom; Informed OP Twitter': 1, 'Not Original Title. Unverified Content. Repost;': 2, 'Old': 19, 'Not in English. Low-effort Self Post. Custom; Informed OP': 1, 'Not Original Title. Repost of Sticky.': 2, 'Self-promotion. Not Original Title. Unverified Content.': 1, 'Not verified': 1, 'Self-promotion. Custom; Informed OP': 2, 'Old. Repost;': 3, 'Not in English. Not Original Title. Unverified Content. Twitter': 1, 'Glorious shitpost': 1, 'Satire': 7, 'Repost; Repost of Sticky.': 5, 'Meta. Low-effort Self Post. TIL Rule Violation.': 1, 'Unverified content / Personal Twitter': 1, 'Personal Twitter': 2, 'Not about India. Personal Info. Unverified Content.': 1, 'Edited title': 3, 'Personal twitter': 2, 'Unverified content': 1, 'Not Original Title. Old. Custom; Informed OP': 1, 'Not original title.': 5, 'Not verified / Unreputed content': 1, 'Politics [OLD]': 8, 'Not Original Title. Meta. Custom; Informed OP': 1, 'Politics [old]': 5, 'In-Depth': 40, 'Self-post. Needs better context.': 1, 'Policy/Economy [Old, 2014]': 1, 'Spoiler': 1, 'Politics [MegaThread]': 1, 'Remove PI; Personal/Unverified': 1, 'Non-Political ': 1, '(GoT Spoilers) Non-Political': 1, 'Pornographic. Custom; Informed OP': 1, 'Low-effort self-post': 39, 'Flamebait title': 1, 'Abuse Warning': 1, 'Reputed/Verified Content; Edited Title': 1, 'Source': 1, 'satire': 1, 'Personal Info. Unverified Content. Custom; Informed OP': 1, 'Winner gets Reddit Gold': 1, 'Unverified Content / Personal Info': 1, 'Personal Info. Not Original Title.': 3, 'Unverified Content': 1, 'Broken Link.': 2, 'Politics [website updated title]': 1, 'Source not provided for inforgraphic': 1, 'Edited title.': 609, 'Personal Info': 19, 'Unverified / Reputed Content': 1, 'Not Original Title. Verified Content.': 35, 'Verified Content.': 457, 'Personal Info Unverified Content': 1, 'Not about India. Not Original Title. Verified Content. Old.': 1, 'Old. Repost.': 6, 'Self-post Rules.': 166, 'Personal Info. Verified Content.': 29, 'Not about India. Verified Content. Custom; Informed OP.': 1, 'Possible GoT Spoilers in Comments': 3, 'Not about India. Verified Content.': 8, 'Low-effort bait.': 1, 'Low-effort flamebait.': 1, 'Self-post Rules. Custom; Informed OP.': 6, 'Verified Content. Custom; Informed OP.': 18, 'Not about India. Self-promotion.': 63, 'Not about India(ns).': 2, 'Personal info.': 83, '(GOT Spoilers) Non-Political': 1, 'Self-post Rules. Verified Content.': 7, 'Not in English. Verified Content.': 7, 'Not about India. Not in English. Self-promotion.': 4, 'Politics ': 1, 'The goodest girl': 1, 'Politics [Old]': 3, 'Duplicate.': 1, 'Unverified content, edited title': 1, 'Pornographic. Verified Content.': 1, 'Not about India. Repost. Custom; Informed OP.': 1, 'Personal Twitter.': 1, 'Not about India. Personal Info. Not in English.': 1, 'Original Content': 1, 'ZOMG1!!1!': 1, 'Wrong flair.': 4, 'Unverified/Reputed content.': 1, 'Politics (Title updated by Livemint)': 1, 'Personal Twitter / Edited Title': 2, 'Not about India. Self-post Rules.': 6, 'Personal Info. Witch-hunt.': 3, 'Not Related to India': 1, 'Not Original Title. Self-post Rules.': 6, 'Spam': 4, 'Repost. Custom; Informed OP.': 8, 'Not Original Title. Verified Content. Custom; Informed OP.': 2, 'Cultural Exchange': 2, 'Repost / No source.': 1, 'Politics (Title changed by Hindu)': 1, 'User targeting..': 1, 'Politics [7 dead]': 1, \"Not original title. Infographic doesn't say about free surgery.\": 1, 'cutest of them all.': 1, 'Winners are /u/chaotic-indian and /u/spannerphantom': 1, 'Not in English. Repost.': 5, 'Personal Info. Not Original Title. Verified Content.': 3, 'No mention of lynching in linked article, misleading title': 1, 'Not about India. Pornographic.': 2, 'Personal Info. Self-post Rules.': 1, 'Broken link.': 1, 'Verified Source / Personal Twitter Link': 1, 'PII': 3, 'Title not in English.': 1, 'Edited Title.': 468, 'Politics [2016 data]': 1, 'Personal Info. Self-promotion. Verified Content.': 1, 'Dead link.': 1, 'Not Original Title. Meta.': 1, 'Personal Info. Self-promotion.': 6, 'Repost  https://redd.it/6jg1fc': 1, 'Not about India. Not Original Title. Verified Content.': 3, 'Verified/Reputed Content.': 1, 'Verified Content. TIL Rule Violation.': 3, 'Paywall': 1, 'Entertainment': 4614, 'Verified content. Source link needed.': 1, 'Low-effort Repost.': 1, 'Ask for pupper in NCR': 1, '\"paki\" / Slur': 1, 'Not about India. Meta.': 4, 'Old. Custom; Informed OP.': 2, \"Removed. Wikipedia citation doesn't corroborate.\": 1, 'Non-Political [OLD 2015]': 1, 'Personal Info. Verified Content. Custom; Informed OP.': 1, 'Personal Info. Not Original Title. Custom; Informed OP.': 1, 'Title.': 1, 'Spam?': 1, '/r/all': 4, 'Personal twitter.': 2, 'Old and Edited Title.': 1, 'Asked for modmail.': 1, 'Custom; Wish granted OP': 1, 'Not about India. Personal Info. Verified Content. Old.': 1, 'Low-effort.': 2, 'Original Comics': 4, '[2015] Non-Political ': 1, 'Low-effort. Meta.': 1, 'Repost. Already being discussed.': 1, 'Not ori': 1, 'PII.': 1, 'Not original title': 1, 'Title mismatch.': 1, 'Flair about post flairs': 1, 'Wrong title.': 1, 'Not in English. Not Original Title. Custom; Informed OP.': 1, '???': 1, 'Flair Abuse': 1, 'Spam / Self Promotion': 1, 'Edited title, Wrong flair': 1, 'Low-effort': 2, 'Not what the title says.': 1, \"Source doesn't tally.\": 1, 'Unverified, Misleading': 1, 'Nice meme': 1, 'Not about India. Witch-hunt.': 1, 'Self post rule broken. ': 1, 'NSFL- Death Warning': 1, 'Deleted by OP': 1, 'Personal Info. Pornographic.': 1, 'Custom, informed OP': 1, 'Edited Title ': 1, 'repost': 1, 'Not About India.': 3, 'Quality Shitpost': 1, 'Zindagi ke safar mein': 1, 'Site altered title': 2, 'Not Original Title': 338, 'Title changed by website': 1, \"OP didn't read fine print\": 1, 'Not in English': 55, 'Cheers friendo': 1, 'ShitPost': 2, 'Nothing beats the Void': 1, 'User was banned for this post': 1, 'HOLD THE LINE': 1, '\"Politics\"': 1, 'Legit': 1, 'Self-post Rules. Verified Content. TIL Rule Violation.': 1, 'EDITED TITLE': 2, 'Not about India. Not in English. Self-post Rules.': 1, \"Misleading - has been 'medium' for a while\": 1, 'Not about India. Witch-hunt. Self-post Rules.': 1, 'Not about India. Repost.': 3, 'Self-promotion. Pornographic.': 2, 'Not NP Link.': 17, 'Pol/Rel Image/Tweet/Video Rule.': 427, 'From 2015 report': 1, 'META': 1, 'All the very best!!': 1, 'Wah wah': 1, 'Not about India. Pornographic. Self-post Rules.': 1, 'Not Original Title. Verified Content. Old.': 1, 'Unverified Twitter.': 55, 'Unsourced Assertion.': 130, 'Pol/Rel Image/Tweet/Video Rule. Custom; Informed OP.': 1, 'Witch-hunt. Custom; Informed OP.': 1, 'Unverified Twitter. Indirect Link.': 1, 'Edited Title. Unsourced Assertion.': 2, 'Edited Title. Old.': 5, 'Not about India. Edited Title.': 12, 'Low-effort self-post. Unsourced Assertion.': 18, 'Pornographic. Edited Title.': 1, 'Was taking a dump, became a jalebi': 1, 'ಠ_ಠ': 2, 'Unverified Twitter. Custom; Informed OP.': 1, 'Meta. Low-effort self-post.': 2, 'Not about India. Low-effort self-post.': 7, 'Indirect Link.': 9, 'Unsourced Assertion. Pol/Rel Image/Tweet/Video Rule.': 13, 'Self-promotion. Unsourced Assertion.': 1, 'Unverified Twitter. Unsourced Assertion.': 1, 'Unsourced Assertion. Custom; Informed OP.': 3, 'Edited Title. Pol/Rel Image/Tweet/Video Rule.': 4, 'Unverified Twitter. Indirect Link. Unsourced Assertion.': 1, 'Not in English. Unsourced Assertion.': 1, 'Title edited in source': 1, 'Edited Title. TIL Rule Violation.': 3, 'Not about India. Self-promotion. Edited Title.': 1, 'Meta. Unsourced Assertion.': 1, 'Not in English. Pol/Rel Image/Tweet/Video Rule.': 11, 'Title changed at source.': 2, 'Unverified Twitter. Pol/Rel Image/Tweet/Video Rule.': 4, 'Not about India. Edited Title. Pol/Rel Image/Tweet/Video Rule.': 1, 'Repost. Pol/Rel Image/Tweet/Video Rule.': 2, 'Self-promotion. Custom; Informed OP.': 2, 'Shitpost. ': 1, 'Edited Title. Low-effort self-post.': 4, 'Self-promotion. Low-effort self-post.': 6, 'Edited Title. Repost.': 3, 'Source in comments': 1, 'Not about India. Unsourced Assertion.': 4, 'FakingNews': 1, 'Low-effort self-post. Repost.': 3, 'Misleading Title': 1, 'Jan 7, 4 PM': 1, 'Net Neutrality': 1079, 'Old. Repost. Indirect Link.': 1, 'Not about India. Personal Info. Self-promotion.': 6, 'Policy &amp; Economy': 2012, 'Business &amp; Finance': 892, 'Indirect Link. Unsourced Assertion.': 1, 'Indirect Link. Pol/Rel Image/Tweet/Video Rule.': 1, 'Not about India. Personal Info. Not in English. Self-promotion.': 1, 'Edited Title. Custom; Informed OP.': 5, 'Not in English. Old.': 2, 'Not about India. Self-promotion. Repost.': 1, 'Self-promotion. Repost.': 4, 'Not about India. Pol/Rel Image/Tweet/Video Rule.': 4, 'Self-promotion. Pol/Rel Image/Tweet/Video Rule.': 6, 'Petition to Fadnavis': 1, 'Personal Info. Unverified Twitter.': 1, 'Personal Information. ': 1, 'Personal Info. Pol/Rel Image/Tweet/Video Rule.': 2, 'Self-promotion. Old. Repost.': 1, 'Netflix denied this': 1, 'Original link in comments': 1, 'Not in English. Edited Title.': 2, 'Edited title. ': 2, 'Edited Title. Low-effort self-post. Custom; Informed OP.': 1, 'Self-promotion. Edited Title. Low-effort self-post.': 1, 'Rescheduled for 13/14th Dec due to Cyclone': 1, 'Not about India. Witch-hunt. Meta.': 1, 'Racism.': 1, 'Hate mongering.': 1, 'Politics, still alive': 1, 'Demonetization - Transgender Person ': 1, 'Short link.': 1, 'Broken URL.': 2, 'Edited Title. Not NP Link.': 1, 'Repost. Unsourced Assertion.': 1, 'Not in English. Self-promotion.': 2, 'Non-Political - Audio Autoplays': 1, 'Edited Title. Unverified Twitter.': 1, 'Old. Pol/Rel Image/Tweet/Video Rule.': 1, 'Low-effort self-post. TIL Rule Violation. Unsourced Assertion.': 1, '60+ dead, 100+ injured': 1, 'Possibly Misleading': 2, 'Old. Unsourced Assertion.': 1, 'Not about India. Not in English. Unsourced Assertion.': 1, 'Edited Title. TIL Rule Violation. Unsourced Assertion.': 1, 'Encourages brigading.': 1, 'Meta. Low-effort self-post. Unsourced Assertion.': 1, 'Self-promotion. Edited Title.': 1, 'Low-effort self-post. Pol/Rel Image/Tweet/Video Rule.': 2, 'Edited Title. TIL Rule Violation. Old.': 2, 'Non-Political [OLD]': 1, 'Stickied Topic': 123, 'Low-effort self-post. Stickied Topic.': 1, 'Meta drama': 1, 'Not About India': 4, 'Meta. ': 1, 'Edited Title. Stickied Topic.': 3, 'Low-effort self-post. Custom; Informed OP.': 1, 'Not about India. Low-effort self-post. Unsourced Assertion.': 1, 'Pol/Rel Image/Tweet/Video Rule. Stickied Topic.': 3, 'No ALL CAPS': 37, 'Not about India. Stickied Topic.': 1, 'Self-promotion. Stickied Topic.': 1, 'Site Altered Title': 1, 'Low effort': 1, 'Not about India Edited Title': 1, 'Stickied Topic. Shit Post.': 1, 'Shit Post': 129, 'Self-promotion': 133, 'Unsourced Assertion': 15, 'Edited Title Repost': 5, 'Edited Title Pol/Rel Image/Tweet/Video Rule. Stickied Topic': 1, 'Repost Stickied Topic': 1, 'Unverified Twitter': 3, 'Self-promotion Edited Title': 3, 'Meta Unsourced Assertion': 1, 'Unsourced Assertion Pol/Rel Image/Tweet/Video Rule.': 2, 'TIL Rule Violation': 10, 'Old Repost': 1, 'Not NP Link': 3, 'Repost Custom; Informed OP': 2, 'Not about India Unsourced Assertion': 1, 'Edited Title Unverified Twitter': 1, 'Not about India Personal Info Self-promotion': 2, 'Not about India Self-promotion': 13, 'Unsourced Assertion Shit Post': 1, 'Pornographic': 1, 'Self-promotion Unsourced Assertion': 1, 'Not about India Custom; Informed OP': 1, 'Repost Pol/Rel Image/Tweet/Video Rule.': 1, 'Not about India TIL Rule Violation': 2, 'Low-effort self-post Unsourced Assertion': 3, 'Self-promotion Pornographic': 1, 'Old Shit Post': 1, 'Not about India Not in English': 6, 'Not about India Shit Post': 2, 'Edited Title Low-effort self-post': 1, 'Not in English Self-promotion': 1, 'Not NP Link Custom; Informed OP': 1, 'Not in English Pol/Rel Image/Tweet/Video Rule.': 1, 'Self-promotion Pol/Rel Image/Tweet/Video Rule.': 1, 'Not about India Self-promotion Custom; Informed OP': 1, 'Not about India Repost': 8, 'SPOILERS!!': 2, 'Not about India Self-promotion Repost': 1, 'Not about India Low-effort self-post': 2, 'Not about India Low-effort self-post Shit Post': 1, 'Edited Title Shit Post': 1, 'Pornographic Shit Post': 1, 'Not about India Not in English Self-promotion': 1, 'Not in English Edited Title Pol/Rel Image/Tweet/Video Rule.': 1, 'Editorialized Title': 3, 'Indirect Link': 1, 'Not about India Not in English Pornographic Shit Post': 1, 'Edited Title TIL Rule Violation': 1, 'Not about India Pol/Rel Image/Tweet/Video Rule.': 3, 'Unsubstantiated': 1, 'Edited Title Custom; Informed OP': 1, 'Pol/rel image/tweet rule.': 283, 'Politics | On Sept 19': 1, 'Not about India. Shit Post': 2, 'Not in English. Pol/rel image/tweet rule.': 5, 'TIL rule violation.': 63, 'Unsourced assertion.': 79, 'Custom; informed OP.': 334, 'Edited Title | Political Twitter Rule.': 1, 'Low Effort Self Post': 9, 'Not about India. Personal info.': 3, 'Political Twitter rule': 1, 'Repost. | Edited Title': 1, 'Broken Link': 2, \"Aug '16\": 1, 'TIL rule violation. | Unsubstantiated': 1, 'Personal Information.': 1, 'Personal Information': 1, 'Political Image Rule.': 1, 'Repost.| Old.': 1, '% Among Addicts': 1, 'Political Twitter Rule.': 2, 'Political Image/Video Rule': 3, 'Political Image/Video Rule ': 1, 'Unsourced Assertion | Policy Image Rule': 1, 'Repost. | Unsourced Assertion.': 1, 'Low Effort Self Post.': 1, 'Political Twitter Rule. | Edited Title.': 1, 'Political Image Rule ': 1, 'Old. Custom; informed OP.': 1, 'Edited title. Custom; informed OP.': 3, 'Political Image Rule': 2, 'Not NP link.': 26, 'Stickied topic.': 156, 'Not about India. Pol/rel image/tweet rule.': 5, 'Edited title. Old. Pol/rel image/tweet rule.': 1, 'Stickied Post.': 4, 'Not about India./Stickied Post': 1, 'Edited title. Unverified Twitter.': 5, 'Not about India/Stickied Post.': 1, 'Not about India./Stickied Post.': 1, 'Pol/rel image/tweet rule. Stickied topic.': 2, 'Edited title. Stickied topic.': 4, 'Witch-hunt. Custom; informed OP.': 1, 'Repost. Stickied topic.': 3, 'Unsourced assertion. Custom; informed OP.': 5, 'Edited title. Pol/rel image/tweet rule.': 12, 'Indirect link.': 3, 'Edited title. Repost.': 7, '404': 1, 'Low-effort self-post. Unsourced assertion.': 7, 'Pol/rel image/tweet rule. Custom; informed OP.': 1, 'r/all': 2, 'Developing': 1, 'Personal info. Unverified Twitter.': 1, 'Not about India. Stickied topic.': 1, 'Sign up ends Oct 3': 1, 'Devoloping': 1, 'Wrong Flair': 2, 'Flamebait': 1, 'Not about India. Edited title.': 7, 'Political Tweet Rule ': 1, 'Edited title. Repost. Pol/rel image/tweet rule.': 1, 'Personal info. Not in English.': 2, 'Quora post': 1, 'Unsourced assertion. Pol/rel image/tweet rule.': 5, 'Low-effort self-post. Shit Post': 2, 'Misleading: Article updated': 1, 'Launch Successful - ISRO': 1, 'FT: Ind 4 - 1 Pur ': 1, 'Telangana ?': 1, 'Not about India. Custom; informed OP.': 1, 'Old. Pol/rel image/tweet rule.': 2, 'Repost. Custom; informed OP.': 2, 'Unverified Twitter. Pol/rel image/tweet rule.': 4, 'Repost. Pol/rel image/tweet rule.': 1, 'Superstition': 1, 'Policy ': 1, 'Inflammatory Language': 1, 'Parody/Fake Tweet': 1, 'Unverified Twitter. TIL rule violation.': 1, 'Unverified Twitter ': 1, 'Meta. Pol/rel image/tweet rule.': 1, 'Edited title. Old.': 4, 'Meta. Custom; informed OP.': 2, 'Personal info. Custom; informed OP.': 1, 'Personal info. Unsourced assertion.': 2, 'Not specific to India. Low-effort self-post.': 4, 'Not specific to India. Custom; informed OP.': 1, 'Not specific to India. Edited title.': 7, 'Repost. Indirect link.': 1, 'Pol/rel image/tweet rule. Shit Post': 2, 'Low-effort self-post. Not NP link.': 1, 'Meta. Repost.': 1, 'wrong flair': 1, 'Pol image, flamebait': 1, 'Low-effort self-post. Custom; informed OP.': 5, 'Disallowed link.': 1, 'Science &amp; Technology [Old]': 1, 'Not specific to India. TIL rule violation.': 3, 'Edited title. Low-effort self-post.': 2, 'Self-promotion. Unsourced assertion.': 1, 'Sexism': 1, 'Sexist': 1, 'Needs source. ': 1, 'Needs source in comments. ': 1, 'Not specific to India. ': 1, 'Low-effort self-post. Old.': 1, 'Wrong Flair.': 1, 'Low Effort Self-Post': 1, 'Maharashtra': 1, 'May 2016': 1, 'Personal info. Self-promotion.': 1, 'Misleading (Base at 1.3 Billion)': 1, 'Meta. Unverified Twitter.': 1, 'Needs Self-Post': 44, 'Not specific to India. Needs Self-Post': 1, 'Unsourced assertion. Needs Self-Post': 1, 'Edited title. Needs Self-Post': 1, 'Scheduled [Old]': 1, 'Witch-hunt. Low-effort self-post.': 1, 'Edited title. Low-effort self-post. Old.': 1, '6:45 PM not 6:30 PM': 1, 'Low-effort self-post. Needs Self-Post': 2, '[OLD] nonpolitical': 1, 'NO ALL CAPS': 1, 'Incorrect Flair': 1, 'Low-Effort': 1, 'Not in English. Edited title.': 1, 'Meta. Unsourced assertion.': 1, 'Karnataka': 1, 'Old. Needs Self-Post': 1, \"[May '15]\": 1, 'Needs Self-Post Custom; informed OP.': 1, 'Unreliable source.': 25, 'Political image. ': 1, 'Personal info. Unreliable source.': 1, 'Unreliable source. Custom; informed OP.': 2, 'Indirect link. Unreliable source.': 1, 'Edited title. Unreliable source.': 1, 'Not specific to India. Not in English. Edited title.': 1, 'Congratulations OP!!!': 1, 'Unsourced assertion. Unreliable source.': 2, 'Not in English. Unreliable source.': 1, 'Not specific to India. Not in English.': 1, 'Title Changed': 1, 'Repost. ': 1, 'Low-effort self-post. ': 1, 'Caution: Requires sign-in': 1, 'Removed: Repost': 1694, 'Removed: Not in English': 132, 'Removed: Edited Title': 848, 'Removed: Unsourced assertion': 110, 'Removed: Not in English Removed: Edited Title': 5, 'Removed: Not Specific to India': 711, 'Removed: Editorialized Title ': 4, 'Removed: Low-effort self-post': 330, 'Removed: Reason given to OP': 127, 'Tweet has been deleted': 1, 'Removed: Meta': 33, 'Removed: Personal Twitter / Image / Unreliable Video Source': 312, 'Removed: Broke TIL rules': 85, 'Removed: OLD': 157, 'Removed: Shitpost': 91, 'Removed: porn': 6, 'Removed: Needs NP Link': 25, 'Removed: Low-Effort Self-Post': 2, 'Removed: Not specific to India ': 5, 'Removed: Not Specific to India Removed: OLD': 1, 'Removed: Self-promotion': 68, 'Removed: Meta Removed: Low-effort self-post': 1, 'Removed: Not Specific to India Removed: Edited Title': 27, 'Launch Successful': 1, 'Removed: Not Specific to India; Low-effort self-post': 1, 'Removed: Unverified Twitter': 47, 'Removed: Post article linked in tweet': 8, 'Removed: Not Specific to India Removed: Reason given to OP': 1, 'Removed: Witch-Hunt': 30, 'Removed: Not Specific to India Removed: Needs NP Link': 3, 'Removed: Edited Title Removed: Unverified Twitter': 4, 'Removed: Shitpost ': 2, '(づ｡◕‿‿◕｡)づ': 1, 'Removed: Edited Title Removed: Low-effort self-post': 3, 'Removed: Not Specific to India Removed: Shitpost': 4, 'Removed: Low-effort self-post Removed: Shitpost': 1, 'Removed: Edited Title Removed: Repost': 16, 'Removed: Self-promotion ': 2, 'Removed: Personal Twitter ': 1, 'Removed: Political image': 1, 'Removed: Stickied Topic': 19, '108 dead | Over 350 injured ': 1, 'Removed: Not Specific to India Removed: Repost': 1, 'Removed: Self-promotion Removed: Unverified Twitter': 1, 'Removed: Misleading': 1, 'Removed: Not Specific to India Removed: Low-effort self-post': 8, 'April Fool': 1, 'Technology': 3280, 'Removed: Witch-Hunt Removed: Low-effort self-post': 1, 'Goal Achieved!!!': 1, '27 Dead | 80 Non-fatal Injuries': 1, 'Removed: Edited Title Removed: OLD': 11, 'Nana, Na. Na. Na. Nana, Na. Na. Na.': 1, 'Removed: Edited Title Removed: Reason given to OP': 3, 'Removed: Shitpost Removed: Reason given to OP': 2, 'Removed: OLD Removed: Reason given to OP': 1, 'Removed: Not Specific to India Removed: Not in English': 2, 'Removed: Wrong Flair': 1, 'Removed: Repost Removed: Reason given to OP': 2, 'Snek': 1, '( ͡° ͜ʖ ͡°)': 2, '[OLD]': 2, 'Shitpost Removed: Reason given to OP': 1, 'Removed: Title not in English': 24, 'Removed: Reason Given to OP': 250, 'Removed: Repost Removed: Reason Given to OP': 57, 'Use budget live thread': 28, 'Removed: Edited Title Removed: Title not in English': 1, 'Removed: Low-effort self-post Removed: Unsourced assertion': 6, 'MIRROR in comments': 1, 'Removed: Not in English Removed: Repost': 1, 'Removed: Broke TIL rules Removed: Repost': 1, 'Removed: Repost Removed: Unsourced assertion': 3, 'Removed: Personal Info Removed: Unverified Twitter': 1, 'Removed: Low-effort self-post Removed: Repost': 2, 'Removed: Not in English Removed: Low-effort self-post': 1, 'Removed: Not in English Removed: Title not in English': 2, 'Removed: Edited Title Removed: Reason Given to OP': 4, 'Removed: OLD Removed: Reason Given to OP': 1, 'Removed: Unverified Twitter Removed: Reason Given to OP': 1, 'DO IT! NOW!': 1, 'Removed: Personal Twitter / Image': 124, 'Removed: Unverified Twitter Removed: Unsourced assertion': 1, 'Deadline: Feb 25': 1, 'Removed: Personal Twitter / Image Removed: Reason Given to OP': 2, 'o_O': 1, 'Removed: Unsourced assertion Removed: Personal Twitter / Image': 7, 'Removed: Not Specific to India Removed: Unverified Twitter': 1, 'Removed: Other (Reason given to OP)': 220, 'Removed: Personal Info Removed: Unsourced assertion': 1, 'Removed: Other (Reason given to OP) Removed: Unsourced assertion': 2, 'Removed: Other (Reason given to OP) Removed: Broke TIL rules': 2, 'Removed: Not Specific to India Removed: Personal Info': 2, 'Removed: Other (Reason given to OP) Removed: Repost': 5, 'Removed: Repost Removed: Personal Twitter / Image': 3, 'Removed: Personal Info Removed: Self-promotion': 1, 'Removed: Unverified Twitter Removed: Personal Twitter / Image': 3, 'Removed: Not Specific to India Removed: Broke TIL rules': 1, 'Removed: Edited Title Removed: Personal Twitter / Image': 2, 'Inaccurate': 1, 'Removed: Personal Info Removed: Title not in English': 1, 'GDP per capita, PPP': 1, 'Removed: Low-effort self-post Removed: Needs NP Link': 1, 'Removed: Irrelevant to India': 81, 'Removed: Irrelevant to India Removed: Other (Reason given to OP)': 1, 'Removed: Edited Title Removed: Other (Reason given to OP)': 1, 'Removed: Other (Reason give to OP)': 35, 'Removed: Personal Info Removed: Personal Twitter / Image': 1, 'Removed: Self-promotion Removed: Edited Title': 1, 'Removed: Broke TIL rules Removed: Personal Twitter / Image': 2, 'NSFL / Death': 1, 'Removed: Other (Reason give to OP) Removed: Repost': 4, 'Removed: Not in English Removed: Personal Twitter / Image': 1, 'Deadline: Jan 7th': 1, 'Removed: Irrelevant to India Removed: Edited Title': 1, 'Removed: Other (Reason give to OP) Removed: Low-effort self-post': 1, 'Removed: Irrelevant to India Removed: Other (Reason give to OP)': 1, 'Not stickied. ': 1, 'Not Relevant, Meta': 1, 'Targeting user': 1, 'Totally not PS': 1, 'Not Relevant': 1, 'Banned Loser Venting': 1, 'Cultural Exchange is LIVE NOW!!': 1, 'Bypassing Domain Ban': 1, 'PI (Mobile Number)': 1, 'Link Down. Mirror in Comments': 1, 'Politics [PDF]': 1, 'Tweet Deleted': 1, 'Adityanath is not speaker': 1, 'Old Video': 1, 'Not Pandal. Permanent Structure.': 1, \"'beutiful' indeed!\": 1, 'Found Safe': 1, 'Correction: 11 people not 27': 1, 'Governance': 138, 'Deadline Extended': 1, 'Regular': 12}\n"
     ]
    }
   ],
   "source": [
    "st = set()\n",
    "flairs_count = {}\n",
    "for i,d in enumerate(returned_submissions):\n",
    "    if(d.get('link_flair_text')) not in st:\n",
    "        st.add(d.get('link_flair_text'))\n",
    "        flairs_count[d.get('link_flair_text')] = 0\n",
    "    flairs_count[d.get('link_flair_text')] = flairs_count[d.get('link_flair_text')] + 1\n",
    "print(flairs_count)"
   ]
  },
  {
   "cell_type": "markdown",
   "metadata": {
    "colab_type": "text",
    "id": "p92JISKVGmOl"
   },
   "source": [
    "#### Selecting important flairs\n",
    "Only flairs with more than 2000 posts are selected are taken as important."
   ]
  },
  {
   "cell_type": "code",
   "execution_count": 6,
   "metadata": {
    "colab": {
     "base_uri": "https://localhost:8080/",
     "height": 391
    },
    "colab_type": "code",
    "id": "40bPHP5AmI4Z",
    "outputId": "3a16c3ce-8d6f-4603-bf3d-3ef7ecbaf059"
   },
   "outputs": [
    {
     "name": "stdout",
     "output_type": "stream",
     "text": [
      "Science/Technology  :  16074\n",
      "Coronavirus  :  8011\n",
      "AskIndia  :  63133\n",
      "Non-Political  :  156791\n",
      "Policy/Economy  :  20809\n",
      "Politics  :  132398\n",
      "Business/Finance  :  19508\n",
      "Photography  :  4675\n",
      "Scheduled  :  3025\n",
      "Food  :  4618\n",
      "Sports  :  8768\n",
      "Demonetization  :  7319\n",
      "Science &amp; Technology  :  3051\n",
      "[R]eddiquette  :  12330\n",
      "Not in English.  :  5979\n",
      "Not Original Title.  :  2228\n",
      "Not about India.  :  2715\n",
      "Repost.  :  2990\n",
      "Policy  :  6328\n",
      "Entertainment  :  4614\n",
      "Policy &amp; Economy  :  2012\n",
      "Technology  :  3280\n"
     ]
    }
   ],
   "source": [
    "important_flairs = list(filter(lambda x : x and flairs_count[x] > 2000, flairs_count))\n",
    "for flair in important_flairs:\n",
    "  print(flair, \" : \", flairs_count[flair])"
   ]
  },
  {
   "cell_type": "markdown",
   "metadata": {
    "colab_type": "text",
    "id": "XMQmYuG8G54U"
   },
   "source": [
    "#### Removing ambiguous flairs"
   ]
  },
  {
   "cell_type": "code",
   "execution_count": 7,
   "metadata": {
    "colab": {
     "base_uri": "https://localhost:8080/",
     "height": 255
    },
    "colab_type": "code",
    "id": "AM8QvI5ppfwb",
    "outputId": "9f5cbe57-871e-4087-adff-c0319c60dc53"
   },
   "outputs": [
    {
     "name": "stdout",
     "output_type": "stream",
     "text": [
      "Sports  :  8768\n",
      "Demonetization  :  7319\n",
      "Business/Finance  :  19508\n",
      "Entertainment  :  4614\n",
      "Politics  :  132398\n",
      "Policy/Economy  :  20809\n",
      "Food  :  4618\n",
      "Photography  :  4675\n",
      "Policy  :  6328\n",
      "Policy &amp; Economy  :  2012\n",
      "Science &amp; Technology  :  3051\n",
      "Science/Technology  :  16074\n",
      "Technology  :  3280\n",
      "Coronavirus  :  8011\n"
     ]
    }
   ],
   "source": [
    "amb_flairs = ['Non-Political', 'Not in English.', '[R]eddiquette', 'Not Original Title.', 'Not about India.', 'Repost.', 'Scheduled', 'Non-Political', 'AskIndia']\n",
    "important_flairs = list(set(important_flairs) - set(amb_flairs))\n",
    "for flair in important_flairs:\n",
    "  print(flair, \" : \", flairs_count[flair])"
   ]
  },
  {
   "cell_type": "markdown",
   "metadata": {
    "colab_type": "text",
    "id": "PFNkMYDvuEJV"
   },
   "source": [
    "#### Merge same flairs"
   ]
  },
  {
   "cell_type": "code",
   "execution_count": 0,
   "metadata": {
    "colab": {},
    "colab_type": "code",
    "id": "vQzs7e_UuD5r"
   },
   "outputs": [],
   "source": [
    "for submission in returned_submissions:\n",
    "  if 'link_flair_text' in submission:\n",
    "    if submission['link_flair_text'] == 'Science &amp; Technology' or submission['link_flair_text'] == 'Technology':\n",
    "      submission['link_flair_text'] = 'Science/Technology'\n",
    "    if submission['link_flair_text'] == 'Policy &amp; Economy':\n",
    "      submission['link_flair_text']  = 'Policy/Economy'"
   ]
  },
  {
   "cell_type": "code",
   "execution_count": 9,
   "metadata": {
    "colab": {
     "base_uri": "https://localhost:8080/",
     "height": 204
    },
    "colab_type": "code",
    "id": "2R0amClj72KC",
    "outputId": "a5429ec7-e46d-4b28-c123-f75c2e8068f1"
   },
   "outputs": [
    {
     "name": "stdout",
     "output_type": "stream",
     "text": [
      "Business/Finance  :  19508\n",
      "Politics  :  132398\n",
      "Sports  :  8768\n",
      "Demonetization  :  7319\n",
      "Entertainment  :  4614\n",
      "Policy/Economy  :  22821\n",
      "Food  :  4618\n",
      "Photography  :  4675\n",
      "Policy  :  6328\n",
      "Science/Technology  :  22405\n",
      "Coronavirus  :  8011\n"
     ]
    }
   ],
   "source": [
    "st = set()\n",
    "flairs_count = {}\n",
    "for i,d in enumerate(returned_submissions):\n",
    "    if(d.get('link_flair_text')) not in st:\n",
    "        st.add(d.get('link_flair_text'))\n",
    "        flairs_count[d.get('link_flair_text')] = 0\n",
    "    flairs_count[d.get('link_flair_text')] = flairs_count[d.get('link_flair_text')] + 1\n",
    "\n",
    "important_flairs = list(filter(lambda x : x and flairs_count[x] > 2000, flairs_count))\n",
    "important_flairs = list(set(important_flairs) - set(amb_flairs))\n",
    "for flair in important_flairs:\n",
    "  print(flair, \" : \", flairs_count[flair])"
   ]
  },
  {
   "cell_type": "markdown",
   "metadata": {
    "colab_type": "text",
    "id": "ivGdnSUDPqrG"
   },
   "source": [
    "some flairs have high number of posts as compared to other flairs. To avoid problems due to disproportion of data, each flair is set to have no more than 10000 posts."
   ]
  },
  {
   "cell_type": "code",
   "execution_count": 0,
   "metadata": {
    "colab": {},
    "colab_type": "code",
    "id": "bF1PtBee8Yl_"
   },
   "outputs": [],
   "source": [
    "max_post_per_flair = 20000\n",
    "current_num = {flair:0 for flair in important_flairs}"
   ]
  },
  {
   "cell_type": "markdown",
   "metadata": {
    "colab_type": "text",
    "id": "TVohpKVSQbuo"
   },
   "source": [
    "#### Extracting title and body from posts\n",
    "extra whitespace characters are removed from the post body, the title and the body are combined under the ```combined``` column. All the text in the posts are converted to lower case, punctuation marks are removed and put under the ```combined_clean``` column."
   ]
  },
  {
   "cell_type": "code",
   "execution_count": 11,
   "metadata": {
    "colab": {
     "base_uri": "https://localhost:8080/",
     "height": 34
    },
    "colab_type": "code",
    "id": "UI7ObQIAzAMs",
    "outputId": "6b1e7b57-2077-42ec-c2e9-2a18dec4919f"
   },
   "outputs": [
    {
     "name": "stderr",
     "output_type": "stream",
     "text": [
      "100%|██████████| 804000/804000 [00:01<00:00, 477618.13it/s]\n"
     ]
    }
   ],
   "source": [
    "flair = []\n",
    "body = []\n",
    "title = []\n",
    "combined = []\n",
    "\n",
    "with tqdm(total = len(returned_submissions)) as pbar:\n",
    "  for submission in returned_submissions:\n",
    "    try:\n",
    "      if submission['link_flair_text'] in important_flairs and current_num[submission['link_flair_text']] < max_post_per_flair:\n",
    "        current_num[submission['link_flair_text']] += 1\n",
    "        flair.append(submission['link_flair_text'])\n",
    "        title.append(submission['title'])\n",
    "        body.append(re.sub(\"\\s\\s+\" , \" \", submission[\"selftext\"]))\n",
    "        combined.append(submission['title'] + \". \" + re.sub(\"\\s\\s+\" , \" \", submission[\"selftext\"]))\n",
    "    except KeyError:\n",
    "      pass\n",
    "    pbar.update(1)\n",
    "reddit_flair_dataframe = pd.DataFrame(zip(title, body, combined, flair), columns=['title', 'body', 'combined', 'flair'])\n",
    "\n",
    "def  clean_text(df, text_field, new_text_field_name):\n",
    "    df[new_text_field_name] = df[text_field].str.lower()\n",
    "    df[new_text_field_name] = df[new_text_field_name].apply(lambda elem: re.sub(r\"(@[A-Za-z0-9]+)|([^0-9A-Za-z \\t])|(\\w+:\\/\\/\\S+)|^rt|http.+?\", \"\", elem)) \n",
    "    df[new_text_field_name] = df[new_text_field_name].apply(lambda elem: (re.sub(r\"\\d+\", \"\", elem)).strip())    \n",
    "    return df\n",
    "\n",
    "reddit_flair_dataframe = clean_text(reddit_flair_dataframe, 'combined', 'combined_clean')\n",
    "reddit_flair_dataframe = reddit_flair_dataframe.drop(reddit_flair_dataframe[reddit_flair_dataframe['combined_clean'] == ''].index)\n",
    "reddit_flair_dataframe.to_csv('reddit_flair_data_midas.csv', index = False)"
   ]
  },
  {
   "cell_type": "code",
   "execution_count": 12,
   "metadata": {
    "colab": {
     "base_uri": "https://localhost:8080/",
     "height": 391
    },
    "colab_type": "code",
    "id": "OkLUOxibWJ_T",
    "outputId": "3a311f6d-d700-44b6-e98f-a7df29208aba"
   },
   "outputs": [
    {
     "data": {
      "text/html": [
       "<div>\n",
       "<style scoped>\n",
       "    .dataframe tbody tr th:only-of-type {\n",
       "        vertical-align: middle;\n",
       "    }\n",
       "\n",
       "    .dataframe tbody tr th {\n",
       "        vertical-align: top;\n",
       "    }\n",
       "\n",
       "    .dataframe thead th {\n",
       "        text-align: right;\n",
       "    }\n",
       "</style>\n",
       "<table border=\"1\" class=\"dataframe\">\n",
       "  <thead>\n",
       "    <tr style=\"text-align: right;\">\n",
       "      <th></th>\n",
       "      <th>title</th>\n",
       "      <th>body</th>\n",
       "      <th>combined</th>\n",
       "      <th>flair</th>\n",
       "      <th>combined_clean</th>\n",
       "    </tr>\n",
       "  </thead>\n",
       "  <tbody>\n",
       "    <tr>\n",
       "      <th>0</th>\n",
       "      <td>The Most Beautiful White Flowers in the Nature</td>\n",
       "      <td></td>\n",
       "      <td>The Most Beautiful White Flowers in the Nature.</td>\n",
       "      <td>Science/Technology</td>\n",
       "      <td>the most beautiful white flowers in the nature</td>\n",
       "    </tr>\n",
       "    <tr>\n",
       "      <th>1</th>\n",
       "      <td>Trains, Flights Unlikely To Resume After May 3...</td>\n",
       "      <td></td>\n",
       "      <td>Trains, Flights Unlikely To Resume After May 3...</td>\n",
       "      <td>Coronavirus</td>\n",
       "      <td>trains flights unlikely to resume after may  s...</td>\n",
       "    </tr>\n",
       "    <tr>\n",
       "      <th>2</th>\n",
       "      <td>Coronavirus Lockdown: Change In E-Commerce Rul...</td>\n",
       "      <td></td>\n",
       "      <td>Coronavirus Lockdown: Change In E-Commerce Rul...</td>\n",
       "      <td>Coronavirus</td>\n",
       "      <td>coronavirus lockdown change in ecommerce rules...</td>\n",
       "    </tr>\n",
       "    <tr>\n",
       "      <th>3</th>\n",
       "      <td>Help researchers understand how the COVID-19 P...</td>\n",
       "      <td>Help researchers understand how the COVID-19 P...</td>\n",
       "      <td>Help researchers understand how the COVID-19 P...</td>\n",
       "      <td>Coronavirus</td>\n",
       "      <td>help researchers understand how the covid pand...</td>\n",
       "    </tr>\n",
       "    <tr>\n",
       "      <th>4</th>\n",
       "      <td>China - A Challenge to India and East Asia | P...</td>\n",
       "      <td></td>\n",
       "      <td>China - A Challenge to India and East Asia | P...</td>\n",
       "      <td>Policy/Economy</td>\n",
       "      <td>china  a challenge to india and east asia  pro...</td>\n",
       "    </tr>\n",
       "  </tbody>\n",
       "</table>\n",
       "</div>"
      ],
      "text/plain": [
       "                                               title  ...                                     combined_clean\n",
       "0     The Most Beautiful White Flowers in the Nature  ...     the most beautiful white flowers in the nature\n",
       "1  Trains, Flights Unlikely To Resume After May 3...  ...  trains flights unlikely to resume after may  s...\n",
       "2  Coronavirus Lockdown: Change In E-Commerce Rul...  ...  coronavirus lockdown change in ecommerce rules...\n",
       "3  Help researchers understand how the COVID-19 P...  ...  help researchers understand how the covid pand...\n",
       "4  China - A Challenge to India and East Asia | P...  ...  china  a challenge to india and east asia  pro...\n",
       "\n",
       "[5 rows x 5 columns]"
      ]
     },
     "execution_count": 12,
     "metadata": {
      "tags": []
     },
     "output_type": "execute_result"
    }
   ],
   "source": [
    "reddit_flair_dataframe.head()"
   ]
  },
  {
   "cell_type": "code",
   "execution_count": 13,
   "metadata": {
    "colab": {
     "base_uri": "https://localhost:8080/",
     "height": 221
    },
    "colab_type": "code",
    "id": "R50GhpY6vBWj",
    "outputId": "e2e5127f-fea0-4aac-d612-a7a2ae1d0e76"
   },
   "outputs": [
    {
     "data": {
      "text/plain": [
       "Policy/Economy        19974\n",
       "Science/Technology    19971\n",
       "Politics              19925\n",
       "Business/Finance      19461\n",
       "Sports                 8248\n",
       "Coronavirus            7985\n",
       "Demonetization         7308\n",
       "Policy                 5792\n",
       "Photography            4663\n",
       "Entertainment          4609\n",
       "Food                   4318\n",
       "Name: flair, dtype: int64"
      ]
     },
     "execution_count": 13,
     "metadata": {
      "tags": []
     },
     "output_type": "execute_result"
    }
   ],
   "source": [
    "reddit_flair_dataframe['flair'].value_counts()"
   ]
  },
  {
   "cell_type": "code",
   "execution_count": 0,
   "metadata": {
    "colab": {},
    "colab_type": "code",
    "id": "_hQg4h95Q2RR"
   },
   "outputs": [],
   "source": [
    "!cp reddit_flair_data_midas.csv /content/drive/My\\ Drive/midas_reddit_flair"
   ]
  }
 ],
 "metadata": {
  "colab": {
   "collapsed_sections": [],
   "machine_shape": "hm",
   "name": "data_collection_final.ipynb",
   "provenance": [],
   "toc_visible": true
  },
  "kernelspec": {
   "display_name": "Python 3",
   "language": "python",
   "name": "python3"
  },
  "language_info": {
   "codemirror_mode": {
    "name": "ipython",
    "version": 3
   },
   "file_extension": ".py",
   "mimetype": "text/x-python",
   "name": "python",
   "nbconvert_exporter": "python",
   "pygments_lexer": "ipython3",
   "version": "3.7.3"
  }
 },
 "nbformat": 4,
 "nbformat_minor": 1
}
